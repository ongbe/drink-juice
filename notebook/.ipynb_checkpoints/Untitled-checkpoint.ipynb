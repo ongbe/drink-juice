{
 "cells": [
  {
   "cell_type": "code",
   "execution_count": 1,
   "metadata": {
    "collapsed": true
   },
   "outputs": [],
   "source": [
    "import datetime\n",
    "import os\n",
    "import re\n",
    "import requests\n",
    "import sys\n",
    "import time"
   ]
  },
  {
   "cell_type": "code",
   "execution_count": 2,
   "metadata": {
    "collapsed": true
   },
   "outputs": [],
   "source": [
    "tkr = 'ABG'"
   ]
  },
  {
   "cell_type": "code",
   "execution_count": 4,
   "metadata": {
    "collapsed": false
   },
   "outputs": [],
   "source": [
    "\n",
    "outdirc = '/tkrcsv/'\n",
    "outdirh = '/tkrhtml/'\n",
    "\n",
    "os.system('mkdir -p '+ outdirh + '' + outdirc)\n",
    "\n",
    "csv_type_l = ['div','history','split']\n",
    "for type_s in csv_type_l:\n",
    "  os.system('mkdir -p '+outdirc+type_s)\n",
    "\n",
    "# Header setup to crawling\n",
    "user_agent_s = 'Mozilla/5.0 (X11; Linux x86_64) AppleWebKit/537.36 (KHTML, like Gecko) Chrome/59.0.3071.104 Safari/537.36'\n",
    "url1_s       = 'https://finance.yahoo.com/quote/'+tkr\n",
    "url2_s       = url1_s+'/history?p='+tkr\n",
    "headers_d    = {'User-Agent': user_agent_s}\n",
    "qurl_s       = 'https://query1.finance.yahoo.com/v7/finance/download/'\n",
    "p1p2_s       = '?period1=-631123200&period2='\n",
    "ie_s         = '&interval=1d&events='\n",
    "\n"
   ]
  },
  {
   "cell_type": "code",
   "execution_count": null,
   "metadata": {
    "collapsed": true
   },
   "outputs": [],
   "source": [
    "with requests.Session() as sess:\n",
    "    tkr1_r = sess.get(url1_s, headers=headers_d)\n",
    "    time.sleep(4)\n",
    "    tkr2_r = sess.get(url2_s, headers=headers_d)\n",
    "    html_s = tkr2_r.content.decode(\"utf-8\")\n",
    "\n",
    "    with open(outdirh+tkr+'.html','w') as fh:\n",
    "        fh.write(html_s)\n",
    "\n",
    "    print('1')\n",
    "\n",
    "    pattern_re = r'(CrumbStore\":{\"crumb\":\")(.+?\")'\n",
    "    pattern_ma = re.search(pattern_re, html_s) # The crumb I want is in pattern_ma[2].\n",
    "    crumb_s    = pattern_ma[2].replace('\"','') # erase \" on end of crumb\n",
    "    \n",
    "    print('2')\n",
    "    \n",
    "    for type_s in csv_type_l:\n",
    "      nowutime_s = datetime.datetime.now().strftime(\"%s\")\n",
    "      csvurl_s   = qurl_s+tkr+p1p2_s+nowutime_s+ie_s+type_s+'&crumb='+crumb_s\n",
    "      # Server needs time to remember the cookie-crumb-pair it just served:\n",
    "      time.sleep(4)\n",
    "      csv_r  = sess.get(csvurl_s, headers=headers_d)\n",
    "      csv_s  = csv_r.content.decode(\"utf-8\")\n",
    "      csvf_s = outdirc+type_s+'/'+tkr+'.csv'\n",
    "      if (csv_r.status_code == 200):\n",
    "        # I should write the csv_s to csv file:\n",
    "        with open(csvf_s,'w') as fh:\n",
    "          fh.write(csv_s)\n",
    "          print('Wrote:', csvf_s)\n",
    "      else:\n",
    "        print('GET request of ',tkr, ' failed. So I am trying again...')\n",
    "        with requests.Session() as ssn2:\n",
    "          tkr1_r = ssn2.get(url1_s, headers=headers_d)\n",
    "          time.sleep(6) # slower this time\n",
    "          tkr2_r     = ssn2.get(url2_s, headers=headers_d)\n",
    "          html2_s    = tkr2_r.content.decode(\"utf-8\")\n",
    "          pattern_ma = re.search(pattern_re, html2_s)\n",
    "          crumb_s    = pattern_ma[2].replace('\"','')\n",
    "          csvurl_s   = qurl_s+tkr+p1p2_s+nowutime_s+ie_s+type_s+'&crumb='+crumb_s\n",
    "          time.sleep(6)\n",
    "          csv2_r = ssn2.get(csvurl_s, headers=headers_d)\n",
    "          csv2_s = csv_r.content.decode(\"utf-8\")\n",
    "          if (csv2_r.status_code == 200):\n",
    "            with open(csvf_s,'w') as fh:\n",
    "              fh.write(csv2_s)\n",
    "              print('Wrote:', csvf_s)\n",
    "          else:\n",
    "            print('GET request of ',tkr, ' failed. Maybe try later.')\n",
    "\n",
    "'bye'\n"
   ]
  }
 ],
 "metadata": {
  "anaconda-cloud": {},
  "kernelspec": {
   "display_name": "tensorflow",
   "language": "python",
   "name": "tensorflow"
  },
  "language_info": {
   "codemirror_mode": {
    "name": "ipython",
    "version": 3
   },
   "file_extension": ".py",
   "mimetype": "text/x-python",
   "name": "python",
   "nbconvert_exporter": "python",
   "pygments_lexer": "ipython3",
   "version": "3.5.3"
  }
 },
 "nbformat": 4,
 "nbformat_minor": 1
}
