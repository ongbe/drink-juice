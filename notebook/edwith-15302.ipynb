{
 "cells": [
  {
   "cell_type": "markdown",
   "metadata": {
    "collapsed": true
   },
   "source": [
    "# logistic regression \n",
    "Information Theory에 온 이론이며, 분류를 위한 것이며 Cross Entropy\n",
    "Cost function과 Objective function을 정의하고 이것을 최대/최소화 하는게 중요\n",
    "\n",
    "target distribution * log ( estimated distrubution ) 의 합에 마이너스 처리\n",
    "\n",
    "## Cross Entropy (CE)  \n",
    "p,q의 확률분포가 있을 경우가 두 분포사이의 거리를 가지고  분포라는건 물건 5개가 있는데 모두 0보다 크고 다 더했을때 1이 되는 categorical value로 정의하고 이를 neural net에서 결정 \n",
    "\n",
    "### cross entropy와 squared loss 장단점\n",
    "ce는 변경대상 element만 바꾸고 squared loss는 weight를 다 변경 ( 퍼포먼스는 ce가 좋을듯 )\n",
    "\n",
    "\n",
    "위 이론을 MNIST 돌려보자.\n",
    "\n",
    " "
   ]
  },
  {
   "cell_type": "code",
   "execution_count": 32,
   "metadata": {},
   "outputs": [],
   "source": [
    "import  numpy as np\n",
    "import  tensorflow as tf\n",
    "#import  matplotlib.\n",
    "from tensorflow.examples.tutorials.mnist import input_data"
   ]
  },
  {
   "cell_type": "code",
   "execution_count": 37,
   "metadata": {},
   "outputs": [],
   "source": [
    "import sys,os,os.path\n",
    "os.environ['http_proxy'] = \"http://70.10.15.10:8080\"\n",
    "os.environ['https_proxy'] = \"http://70.10.15.10:8080\""
   ]
  },
  {
   "cell_type": "code",
   "execution_count": 51,
   "metadata": {},
   "outputs": [],
   "source": [
    "# %set_env HTTP_PROXY = http://70.10.15.10:8080\n",
    "# %set_env HTTPS_PROXY =  http://70.10.15.10:8080\n",
    "# %env"
   ]
  },
  {
   "cell_type": "code",
   "execution_count": 49,
   "metadata": {},
   "outputs": [],
   "source": [
    "# mnist = input_data.read_data_sets('data/', one_hot=True)\n",
    "# trainimg = mnist.train.images\n",
    "# trainlabel = mnist.train.labels\n",
    "# testimg = mnist.test.images\n",
    "# testlabel = mnist.test.labels\n",
    "\n",
    "# proxy issue..."
   ]
  },
  {
   "cell_type": "code",
   "execution_count": 41,
   "metadata": {},
   "outputs": [
    {
     "name": "stdout",
     "output_type": "stream",
     "text": [
      "GRAPH READY\n"
     ]
    }
   ],
   "source": [
    "x = tf.placeholder(\"float\", [None, 784])\n",
    "y = tf.placeholder(\"float\", [None, 10])\n",
    "\n",
    "W = tf.Variable(tf.zeros([784,10]))\n",
    "b = tf.Variable(tf.zeros([10]))\n",
    "\n",
    "#logistic regression model\n",
    "actv = tf.nn.softmax(tf.matmul(x,W) + b)\n",
    "#cost function\n",
    "cost = tf.reduce_mean(-tf.reduce_sum( y * tf.log(actv), reduction_indices= 1))\n",
    "\n",
    "#optimizer\n",
    "learning_rate = 0.01\n",
    "optm = tf.train.GradientDescentOptimizer(learning_rate=learning_rate).minimize(cost)\n",
    "print(\"GRAPH READY\")\n"
   ]
  },
  {
   "cell_type": "code",
   "execution_count": 46,
   "metadata": {},
   "outputs": [],
   "source": [
    "# Predicition\n",
    "pred = tf.equal(tf.argmax(actv,1), tf.argmax(y,1))\n",
    "\n",
    "# Accuracy\n",
    "acrr = tf.reduce_mean(tf.cast(pred, \"float\"))\n",
    "\n",
    "#Initializer\n",
    "init = tf.global_variables_initializer()\n",
    "\n"
   ]
  },
  {
   "cell_type": "markdown",
   "metadata": {},
   "source": [
    "# Train Model"
   ]
  },
  {
   "cell_type": "code",
   "execution_count": null,
   "metadata": {},
   "outputs": [],
   "source": [
    "training_epochs = 50\n",
    "batch_size = 100\n",
    "display_step = 5\n",
    "\n",
    "# SESSION\n",
    "sess = tf.Session()\n",
    "sess.run(init)\n",
    "\n",
    "# MINI-BATCH LEARNING\n",
    "for epoch in range(training_epochs) :\n",
    "    avg_cost = 0\n",
    "    num_batch - int(mnist.train)"
   ]
  }
 ],
 "metadata": {
  "kernelspec": {
   "display_name": "Python 2",
   "language": "python",
   "name": "python2"
  },
  "language_info": {
   "codemirror_mode": {
    "name": "ipython",
    "version": 2
   },
   "file_extension": ".py",
   "mimetype": "text/x-python",
   "name": "python",
   "nbconvert_exporter": "python",
   "pygments_lexer": "ipython2",
   "version": "2.7.6"
  }
 },
 "nbformat": 4,
 "nbformat_minor": 0
}
