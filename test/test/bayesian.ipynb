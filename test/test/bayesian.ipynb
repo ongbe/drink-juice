{
 "cells": [
  {
   "cell_type": "code",
   "execution_count": null,
   "metadata": {
    "collapsed": true
   },
   "outputs": [],
   "source": [
    "\"\"\"\n",
    "The book uses a custom matplotlibrc file, which provides the unique styles for\n",
    "matplotlib plots. If executing this book, and you wish to use the book's\n",
    "styling, provided are two options:\n",
    "    1. Overwrite your own matplotlibrc file with the rc-file provided in the\n",
    "       book's styles/ dir. See http://matplotlib.org/users/customizing.html\n",
    "    2. Also in the styles is  bmh_matplotlibrc.json file. This can be used to\n",
    "       update the styles in only this notebook. Try running the following code:\n",
    "\n",
    "        import json\n",
    "        s = json.load(open(\"../styles/bmh_matplotlibrc.json\"))\n",
    "        matplotlib.rcParams.update(s)\n",
    "\n",
    "\"\"\"\n",
    "\n",
    "# The code below can be passed over, as it is currently not important, plus it\n",
    "# uses advanced topics we have not covered yet. LOOK AT PICTURE, MICHAEL!\n",
    "%matplotlib inline\n",
    "from IPython.core.pylabtools import figsize\n",
    "import numpy as np\n",
    "from matplotlib import pyplot as plt\n",
    "figsize(11, 9)\n",
    "\n",
    "import scipy.stats as stats\n",
    "\n",
    "dist = stats.beta\n",
    "n_trials = [0, 1, 2, 3, 4, 5, 8, 15, 50, 500]\n",
    "data = stats.bernoulli.rvs(0.5, size=n_trials[-1])\n",
    "x = np.linspace(0, 1, 100)\n",
    "\n",
    "# For the already prepared, I'm using Binomial's conj. prior.\n",
    "for k, N in enumerate(n_trials):\n",
    "    sx = plt.subplot(len(n_trials)/2, 2, k+1)\n",
    "    plt.xlabel(\"$p$, probability of heads\") \\\n",
    "        if k in [0, len(n_trials)-1] else None\n",
    "    plt.setp(sx.get_yticklabels(), visible=False)\n",
    "    heads = data[:N].sum()\n",
    "    y = dist.pdf(x, 1 + heads, 1 + N - heads)\n",
    "    plt.plot(x, y, label=\"observe %d tosses,\\n %d heads\" % (N, heads))\n",
    "    plt.fill_between(x, 0, y, color=\"#348ABD\", alpha=0.4)\n",
    "    plt.vlines(0.5, 0, 4, color=\"k\", linestyles=\"--\", lw=1)\n",
    "\n",
    "    leg = plt.legend()\n",
    "    leg.get_frame().set_alpha(0.4)\n",
    "    plt.autoscale(tight=True)\n",
    "\n",
    "\n",
    "plt.suptitle(\"Bayesian updating of posterior probabilities\",\n",
    "             y=1.02,\n",
    "             fontsize=14)\n",
    "\n",
    "plt.tight_layout()"
   ]
  }
 ],
 "metadata": {
  "kernelspec": {
   "display_name": "Python 2",
   "language": "python",
   "name": "python2"
  },
  "language_info": {
   "codemirror_mode": {
    "name": "ipython",
    "version": 2
   },
   "file_extension": ".py",
   "mimetype": "text/x-python",
   "name": "python",
   "nbconvert_exporter": "python",
   "pygments_lexer": "ipython2",
   "version": "2.7.6"
  }
 },
 "nbformat": 4,
 "nbformat_minor": 0
}
