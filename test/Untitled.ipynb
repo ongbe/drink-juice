{
 "cells": [
  {
   "cell_type": "markdown",
   "metadata": {},
   "source": [
    "# SVD & PCA 내용정리\n",
    "\n",
    "1. https://rpubs.com/aaronsc32/image-compression-svd\n",
    "2. http://darkpgmr.tistory.com/m/106"
   ]
  },
  {
   "cell_type": "code",
   "execution_count": 1,
   "metadata": {},
   "outputs": [],
   "source": [
    "import numpy as np\n"
   ]
  },
  {
   "cell_type": "code",
   "execution_count": 2,
   "metadata": {},
   "outputs": [],
   "source": [
    "np.linalg.svd?"
   ]
  },
  {
   "cell_type": "code",
   "execution_count": 4,
   "metadata": {},
   "outputs": [
    {
     "name": "stdout",
     "output_type": "stream",
     "text": [
      "Help on function svd in module numpy.linalg.linalg:\n",
      "\n",
      "svd(a, full_matrices=1, compute_uv=1)\n",
      "    Singular Value Decomposition.\n",
      "    \n",
      "    Factors the matrix `a` as ``u * np.diag(s) * v``, where `u` and `v`\n",
      "    are unitary and `s` is a 1-d array of `a`'s singular values.\n",
      "    \n",
      "    Parameters\n",
      "    ----------\n",
      "    a : (..., M, N) array_like\n",
      "        A real or complex matrix of shape (`M`, `N`) .\n",
      "    full_matrices : bool, optional\n",
      "        If True (default), `u` and `v` have the shapes (`M`, `M`) and\n",
      "        (`N`, `N`), respectively.  Otherwise, the shapes are (`M`, `K`)\n",
      "        and (`K`, `N`), respectively, where `K` = min(`M`, `N`).\n",
      "    compute_uv : bool, optional\n",
      "        Whether or not to compute `u` and `v` in addition to `s`.  True\n",
      "        by default.\n",
      "    \n",
      "    Returns\n",
      "    -------\n",
      "    u : { (..., M, M), (..., M, K) } array\n",
      "        Unitary matrices. The actual shape depends on the value of\n",
      "        ``full_matrices``. Only returned when ``compute_uv`` is True.\n",
      "    s : (..., K) array\n",
      "        The singular values for every matrix, sorted in descending order.\n",
      "    v : { (..., N, N), (..., K, N) } array\n",
      "        Unitary matrices. The actual shape depends on the value of\n",
      "        ``full_matrices``. Only returned when ``compute_uv`` is True.\n",
      "    \n",
      "    Raises\n",
      "    ------\n",
      "    LinAlgError\n",
      "        If SVD computation does not converge.\n",
      "    \n",
      "    Notes\n",
      "    -----\n",
      "    \n",
      "    .. versionadded:: 1.8.0\n",
      "    \n",
      "    Broadcasting rules apply, see the `numpy.linalg` documentation for\n",
      "    details.\n",
      "    \n",
      "    The decomposition is performed using LAPACK routine _gesdd\n",
      "    \n",
      "    The SVD is commonly written as ``a = U S V.H``.  The `v` returned\n",
      "    by this function is ``V.H`` and ``u = U``.\n",
      "    \n",
      "    If ``U`` is a unitary matrix, it means that it\n",
      "    satisfies ``U.H = inv(U)``.\n",
      "    \n",
      "    The rows of `v` are the eigenvectors of ``a.H a``. The columns\n",
      "    of `u` are the eigenvectors of ``a a.H``.  For row ``i`` in\n",
      "    `v` and column ``i`` in `u`, the corresponding eigenvalue is\n",
      "    ``s[i]**2``.\n",
      "    \n",
      "    If `a` is a `matrix` object (as opposed to an `ndarray`), then so\n",
      "    are all the return values.\n",
      "    \n",
      "    Examples\n",
      "    --------\n",
      "    >>> a = np.random.randn(9, 6) + 1j*np.random.randn(9, 6)\n",
      "    \n",
      "    Reconstruction based on full SVD:\n",
      "    \n",
      "    >>> U, s, V = np.linalg.svd(a, full_matrices=True)\n",
      "    >>> U.shape, V.shape, s.shape\n",
      "    ((9, 9), (6, 6), (6,))\n",
      "    >>> S = np.zeros((9, 6), dtype=complex)\n",
      "    >>> S[:6, :6] = np.diag(s)\n",
      "    >>> np.allclose(a, np.dot(U, np.dot(S, V)))\n",
      "    True\n",
      "    \n",
      "    Reconstruction based on reduced SVD:\n",
      "    \n",
      "    >>> U, s, V = np.linalg.svd(a, full_matrices=False)\n",
      "    >>> U.shape, V.shape, s.shape\n",
      "    ((9, 6), (6, 6), (6,))\n",
      "    >>> S = np.diag(s)\n",
      "    >>> np.allclose(a, np.dot(U, np.dot(S, V)))\n",
      "    True\n",
      "\n"
     ]
    }
   ],
   "source": [
    "help(np.linalg.svd)"
   ]
  },
  {
   "cell_type": "code",
   "execution_count": null,
   "metadata": {},
   "outputs": [],
   "source": []
  }
 ],
 "metadata": {
  "kernelspec": {
   "display_name": "Python 3",
   "language": "python",
   "name": "python3"
  },
  "language_info": {
   "codemirror_mode": {
    "name": "ipython",
    "version": 3
   },
   "file_extension": ".py",
   "mimetype": "text/x-python",
   "name": "python",
   "nbconvert_exporter": "python",
   "pygments_lexer": "ipython3",
   "version": "3.6.4"
  }
 },
 "nbformat": 4,
 "nbformat_minor": 2
}
